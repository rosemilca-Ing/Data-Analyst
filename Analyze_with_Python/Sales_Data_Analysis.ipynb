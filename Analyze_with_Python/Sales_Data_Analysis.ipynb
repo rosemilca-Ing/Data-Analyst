{
  "nbformat": 4,
  "nbformat_minor": 0,
  "metadata": {
    "colab": {
      "provenance": [],
      "authorship_tag": "ABX9TyN1oTViZNDJsykB0AIdb9KB",
      "include_colab_link": true
    },
    "kernelspec": {
      "name": "python3",
      "display_name": "Python 3"
    },
    "language_info": {
      "name": "python"
    }
  },
  "cells": [
    {
      "cell_type": "markdown",
      "metadata": {
        "id": "view-in-github",
        "colab_type": "text"
      },
      "source": [
        "<a href=\"https://colab.research.google.com/github/rosemilca-Ing/Data-Analyst/blob/main/Analyze_with_Python/Sales_Data_Analysis.ipynb\" target=\"_parent\"><img src=\"https://colab.research.google.com/assets/colab-badge.svg\" alt=\"Open In Colab\"/></a>"
      ]
    },
    {
      "cell_type": "markdown",
      "source": [
        "# **Data Analyst Project**"
      ],
      "metadata": {
        "id": "K5iIO-GXDbDS"
      }
    },
    {
      "cell_type": "markdown",
      "source": [
        "Prepared by : Rose-Milca CENAT"
      ],
      "metadata": {
        "id": "67kSbO2ObenR"
      }
    },
    {
      "cell_type": "markdown",
      "source": [
        "## **1. Définition du Problème**\n",
        "L'objectif est d'analyser les performances des ventes d'une entreprise afin d'identifier :\n",
        "\n",
        "Les produits les plus vendus.\n",
        "\n",
        "La saisonnalité des ventes.\n",
        "\n",
        "Quels sont les meilleurs mois pour les ventes ?\n",
        "\n",
        "À quelle heure y a-t-il le plus de commandes ?\n",
        "\n",
        "Quelle ville génère le plus de ventes ?"
      ],
      "metadata": {
        "id": "_lGKj1MnJbSs"
      }
    },
    {
      "cell_type": "markdown",
      "source": [
        "## **2. Collecte et Stockage des Données**\n",
        "Données utilisées :\n",
        "Données des ventes : Order ID, Sales, Quantity Ordered, price, etc.\n",
        "\n",
        "\n",
        "Sources :\n",
        "Kaggle"
      ],
      "metadata": {
        "id": "7HRwCHm7L3It"
      }
    },
    {
      "cell_type": "markdown",
      "source": [
        "## **3. Transformation et Préparation des Données**"
      ],
      "metadata": {
        "id": "sw4YyBP5NZ9Y"
      }
    },
    {
      "cell_type": "code",
      "execution_count": 29,
      "metadata": {
        "id": "xcIv7DuuDZr8"
      },
      "outputs": [],
      "source": [
        "import pandas as pd\n",
        "import matplotlib.pyplot as plt\n",
        "import seaborn as sns\n",
        "\n",
        "from sklearn.model_selection import train_test_split\n",
        "from sklearn.linear_model import LinearRegression\n",
        "from sklearn.metrics import mean_absolute_error\n",
        "from itertools import combinations\n",
        "from collections import Counter"
      ]
    },
    {
      "cell_type": "code",
      "source": [
        "data = pd.read_csv('Sales Data.csv')"
      ],
      "metadata": {
        "id": "SAbNqlAiOskK"
      },
      "execution_count": 30,
      "outputs": []
    },
    {
      "cell_type": "code",
      "source": [
        "data.head()"
      ],
      "metadata": {
        "colab": {
          "base_uri": "https://localhost:8080/",
          "height": 206
        },
        "id": "6nt75V8FP6hT",
        "outputId": "5edb49d0-983a-4591-e2f1-c37137615e60"
      },
      "execution_count": 31,
      "outputs": [
        {
          "output_type": "execute_result",
          "data": {
            "text/plain": [
              "   Unnamed: 0  Order ID               Product  Quantity Ordered  Price Each  \\\n",
              "0           0    295665    Macbook Pro Laptop                 1     1700.00   \n",
              "1           1    295666    LG Washing Machine                 1      600.00   \n",
              "2           2    295667  USB-C Charging Cable                 1       11.95   \n",
              "3           3    295668      27in FHD Monitor                 1      149.99   \n",
              "4           4    295669  USB-C Charging Cable                 1       11.95   \n",
              "\n",
              "            Order Date                        Purchase Address  Month  \\\n",
              "0  2019-12-30 00:01:00  136 Church St, New York City, NY 10001     12   \n",
              "1  2019-12-29 07:03:00     562 2nd St, New York City, NY 10001     12   \n",
              "2  2019-12-12 18:21:00    277 Main St, New York City, NY 10001     12   \n",
              "3  2019-12-22 15:13:00     410 6th St, San Francisco, CA 94016     12   \n",
              "4  2019-12-18 12:38:00           43 Hill St, Atlanta, GA 30301     12   \n",
              "\n",
              "     Sales            City  Hour  \n",
              "0  1700.00   New York City     0  \n",
              "1   600.00   New York City     7  \n",
              "2    11.95   New York City    18  \n",
              "3   149.99   San Francisco    15  \n",
              "4    11.95         Atlanta    12  "
            ],
            "text/html": [
              "\n",
              "  <div id=\"df-e3aa75a8-6d3a-4358-ac01-ac5d85391b6c\" class=\"colab-df-container\">\n",
              "    <div>\n",
              "<style scoped>\n",
              "    .dataframe tbody tr th:only-of-type {\n",
              "        vertical-align: middle;\n",
              "    }\n",
              "\n",
              "    .dataframe tbody tr th {\n",
              "        vertical-align: top;\n",
              "    }\n",
              "\n",
              "    .dataframe thead th {\n",
              "        text-align: right;\n",
              "    }\n",
              "</style>\n",
              "<table border=\"1\" class=\"dataframe\">\n",
              "  <thead>\n",
              "    <tr style=\"text-align: right;\">\n",
              "      <th></th>\n",
              "      <th>Unnamed: 0</th>\n",
              "      <th>Order ID</th>\n",
              "      <th>Product</th>\n",
              "      <th>Quantity Ordered</th>\n",
              "      <th>Price Each</th>\n",
              "      <th>Order Date</th>\n",
              "      <th>Purchase Address</th>\n",
              "      <th>Month</th>\n",
              "      <th>Sales</th>\n",
              "      <th>City</th>\n",
              "      <th>Hour</th>\n",
              "    </tr>\n",
              "  </thead>\n",
              "  <tbody>\n",
              "    <tr>\n",
              "      <th>0</th>\n",
              "      <td>0</td>\n",
              "      <td>295665</td>\n",
              "      <td>Macbook Pro Laptop</td>\n",
              "      <td>1</td>\n",
              "      <td>1700.00</td>\n",
              "      <td>2019-12-30 00:01:00</td>\n",
              "      <td>136 Church St, New York City, NY 10001</td>\n",
              "      <td>12</td>\n",
              "      <td>1700.00</td>\n",
              "      <td>New York City</td>\n",
              "      <td>0</td>\n",
              "    </tr>\n",
              "    <tr>\n",
              "      <th>1</th>\n",
              "      <td>1</td>\n",
              "      <td>295666</td>\n",
              "      <td>LG Washing Machine</td>\n",
              "      <td>1</td>\n",
              "      <td>600.00</td>\n",
              "      <td>2019-12-29 07:03:00</td>\n",
              "      <td>562 2nd St, New York City, NY 10001</td>\n",
              "      <td>12</td>\n",
              "      <td>600.00</td>\n",
              "      <td>New York City</td>\n",
              "      <td>7</td>\n",
              "    </tr>\n",
              "    <tr>\n",
              "      <th>2</th>\n",
              "      <td>2</td>\n",
              "      <td>295667</td>\n",
              "      <td>USB-C Charging Cable</td>\n",
              "      <td>1</td>\n",
              "      <td>11.95</td>\n",
              "      <td>2019-12-12 18:21:00</td>\n",
              "      <td>277 Main St, New York City, NY 10001</td>\n",
              "      <td>12</td>\n",
              "      <td>11.95</td>\n",
              "      <td>New York City</td>\n",
              "      <td>18</td>\n",
              "    </tr>\n",
              "    <tr>\n",
              "      <th>3</th>\n",
              "      <td>3</td>\n",
              "      <td>295668</td>\n",
              "      <td>27in FHD Monitor</td>\n",
              "      <td>1</td>\n",
              "      <td>149.99</td>\n",
              "      <td>2019-12-22 15:13:00</td>\n",
              "      <td>410 6th St, San Francisco, CA 94016</td>\n",
              "      <td>12</td>\n",
              "      <td>149.99</td>\n",
              "      <td>San Francisco</td>\n",
              "      <td>15</td>\n",
              "    </tr>\n",
              "    <tr>\n",
              "      <th>4</th>\n",
              "      <td>4</td>\n",
              "      <td>295669</td>\n",
              "      <td>USB-C Charging Cable</td>\n",
              "      <td>1</td>\n",
              "      <td>11.95</td>\n",
              "      <td>2019-12-18 12:38:00</td>\n",
              "      <td>43 Hill St, Atlanta, GA 30301</td>\n",
              "      <td>12</td>\n",
              "      <td>11.95</td>\n",
              "      <td>Atlanta</td>\n",
              "      <td>12</td>\n",
              "    </tr>\n",
              "  </tbody>\n",
              "</table>\n",
              "</div>\n",
              "    <div class=\"colab-df-buttons\">\n",
              "\n",
              "  <div class=\"colab-df-container\">\n",
              "    <button class=\"colab-df-convert\" onclick=\"convertToInteractive('df-e3aa75a8-6d3a-4358-ac01-ac5d85391b6c')\"\n",
              "            title=\"Convert this dataframe to an interactive table.\"\n",
              "            style=\"display:none;\">\n",
              "\n",
              "  <svg xmlns=\"http://www.w3.org/2000/svg\" height=\"24px\" viewBox=\"0 -960 960 960\">\n",
              "    <path d=\"M120-120v-720h720v720H120Zm60-500h600v-160H180v160Zm220 220h160v-160H400v160Zm0 220h160v-160H400v160ZM180-400h160v-160H180v160Zm440 0h160v-160H620v160ZM180-180h160v-160H180v160Zm440 0h160v-160H620v160Z\"/>\n",
              "  </svg>\n",
              "    </button>\n",
              "\n",
              "  <style>\n",
              "    .colab-df-container {\n",
              "      display:flex;\n",
              "      gap: 12px;\n",
              "    }\n",
              "\n",
              "    .colab-df-convert {\n",
              "      background-color: #E8F0FE;\n",
              "      border: none;\n",
              "      border-radius: 50%;\n",
              "      cursor: pointer;\n",
              "      display: none;\n",
              "      fill: #1967D2;\n",
              "      height: 32px;\n",
              "      padding: 0 0 0 0;\n",
              "      width: 32px;\n",
              "    }\n",
              "\n",
              "    .colab-df-convert:hover {\n",
              "      background-color: #E2EBFA;\n",
              "      box-shadow: 0px 1px 2px rgba(60, 64, 67, 0.3), 0px 1px 3px 1px rgba(60, 64, 67, 0.15);\n",
              "      fill: #174EA6;\n",
              "    }\n",
              "\n",
              "    .colab-df-buttons div {\n",
              "      margin-bottom: 4px;\n",
              "    }\n",
              "\n",
              "    [theme=dark] .colab-df-convert {\n",
              "      background-color: #3B4455;\n",
              "      fill: #D2E3FC;\n",
              "    }\n",
              "\n",
              "    [theme=dark] .colab-df-convert:hover {\n",
              "      background-color: #434B5C;\n",
              "      box-shadow: 0px 1px 3px 1px rgba(0, 0, 0, 0.15);\n",
              "      filter: drop-shadow(0px 1px 2px rgba(0, 0, 0, 0.3));\n",
              "      fill: #FFFFFF;\n",
              "    }\n",
              "  </style>\n",
              "\n",
              "    <script>\n",
              "      const buttonEl =\n",
              "        document.querySelector('#df-e3aa75a8-6d3a-4358-ac01-ac5d85391b6c button.colab-df-convert');\n",
              "      buttonEl.style.display =\n",
              "        google.colab.kernel.accessAllowed ? 'block' : 'none';\n",
              "\n",
              "      async function convertToInteractive(key) {\n",
              "        const element = document.querySelector('#df-e3aa75a8-6d3a-4358-ac01-ac5d85391b6c');\n",
              "        const dataTable =\n",
              "          await google.colab.kernel.invokeFunction('convertToInteractive',\n",
              "                                                    [key], {});\n",
              "        if (!dataTable) return;\n",
              "\n",
              "        const docLinkHtml = 'Like what you see? Visit the ' +\n",
              "          '<a target=\"_blank\" href=https://colab.research.google.com/notebooks/data_table.ipynb>data table notebook</a>'\n",
              "          + ' to learn more about interactive tables.';\n",
              "        element.innerHTML = '';\n",
              "        dataTable['output_type'] = 'display_data';\n",
              "        await google.colab.output.renderOutput(dataTable, element);\n",
              "        const docLink = document.createElement('div');\n",
              "        docLink.innerHTML = docLinkHtml;\n",
              "        element.appendChild(docLink);\n",
              "      }\n",
              "    </script>\n",
              "  </div>\n",
              "\n",
              "\n",
              "    <div id=\"df-5a191b27-a66b-4042-8f3b-16fd2636a5ec\">\n",
              "      <button class=\"colab-df-quickchart\" onclick=\"quickchart('df-5a191b27-a66b-4042-8f3b-16fd2636a5ec')\"\n",
              "                title=\"Suggest charts\"\n",
              "                style=\"display:none;\">\n",
              "\n",
              "<svg xmlns=\"http://www.w3.org/2000/svg\" height=\"24px\"viewBox=\"0 0 24 24\"\n",
              "     width=\"24px\">\n",
              "    <g>\n",
              "        <path d=\"M19 3H5c-1.1 0-2 .9-2 2v14c0 1.1.9 2 2 2h14c1.1 0 2-.9 2-2V5c0-1.1-.9-2-2-2zM9 17H7v-7h2v7zm4 0h-2V7h2v10zm4 0h-2v-4h2v4z\"/>\n",
              "    </g>\n",
              "</svg>\n",
              "      </button>\n",
              "\n",
              "<style>\n",
              "  .colab-df-quickchart {\n",
              "      --bg-color: #E8F0FE;\n",
              "      --fill-color: #1967D2;\n",
              "      --hover-bg-color: #E2EBFA;\n",
              "      --hover-fill-color: #174EA6;\n",
              "      --disabled-fill-color: #AAA;\n",
              "      --disabled-bg-color: #DDD;\n",
              "  }\n",
              "\n",
              "  [theme=dark] .colab-df-quickchart {\n",
              "      --bg-color: #3B4455;\n",
              "      --fill-color: #D2E3FC;\n",
              "      --hover-bg-color: #434B5C;\n",
              "      --hover-fill-color: #FFFFFF;\n",
              "      --disabled-bg-color: #3B4455;\n",
              "      --disabled-fill-color: #666;\n",
              "  }\n",
              "\n",
              "  .colab-df-quickchart {\n",
              "    background-color: var(--bg-color);\n",
              "    border: none;\n",
              "    border-radius: 50%;\n",
              "    cursor: pointer;\n",
              "    display: none;\n",
              "    fill: var(--fill-color);\n",
              "    height: 32px;\n",
              "    padding: 0;\n",
              "    width: 32px;\n",
              "  }\n",
              "\n",
              "  .colab-df-quickchart:hover {\n",
              "    background-color: var(--hover-bg-color);\n",
              "    box-shadow: 0 1px 2px rgba(60, 64, 67, 0.3), 0 1px 3px 1px rgba(60, 64, 67, 0.15);\n",
              "    fill: var(--button-hover-fill-color);\n",
              "  }\n",
              "\n",
              "  .colab-df-quickchart-complete:disabled,\n",
              "  .colab-df-quickchart-complete:disabled:hover {\n",
              "    background-color: var(--disabled-bg-color);\n",
              "    fill: var(--disabled-fill-color);\n",
              "    box-shadow: none;\n",
              "  }\n",
              "\n",
              "  .colab-df-spinner {\n",
              "    border: 2px solid var(--fill-color);\n",
              "    border-color: transparent;\n",
              "    border-bottom-color: var(--fill-color);\n",
              "    animation:\n",
              "      spin 1s steps(1) infinite;\n",
              "  }\n",
              "\n",
              "  @keyframes spin {\n",
              "    0% {\n",
              "      border-color: transparent;\n",
              "      border-bottom-color: var(--fill-color);\n",
              "      border-left-color: var(--fill-color);\n",
              "    }\n",
              "    20% {\n",
              "      border-color: transparent;\n",
              "      border-left-color: var(--fill-color);\n",
              "      border-top-color: var(--fill-color);\n",
              "    }\n",
              "    30% {\n",
              "      border-color: transparent;\n",
              "      border-left-color: var(--fill-color);\n",
              "      border-top-color: var(--fill-color);\n",
              "      border-right-color: var(--fill-color);\n",
              "    }\n",
              "    40% {\n",
              "      border-color: transparent;\n",
              "      border-right-color: var(--fill-color);\n",
              "      border-top-color: var(--fill-color);\n",
              "    }\n",
              "    60% {\n",
              "      border-color: transparent;\n",
              "      border-right-color: var(--fill-color);\n",
              "    }\n",
              "    80% {\n",
              "      border-color: transparent;\n",
              "      border-right-color: var(--fill-color);\n",
              "      border-bottom-color: var(--fill-color);\n",
              "    }\n",
              "    90% {\n",
              "      border-color: transparent;\n",
              "      border-bottom-color: var(--fill-color);\n",
              "    }\n",
              "  }\n",
              "</style>\n",
              "\n",
              "      <script>\n",
              "        async function quickchart(key) {\n",
              "          const quickchartButtonEl =\n",
              "            document.querySelector('#' + key + ' button');\n",
              "          quickchartButtonEl.disabled = true;  // To prevent multiple clicks.\n",
              "          quickchartButtonEl.classList.add('colab-df-spinner');\n",
              "          try {\n",
              "            const charts = await google.colab.kernel.invokeFunction(\n",
              "                'suggestCharts', [key], {});\n",
              "          } catch (error) {\n",
              "            console.error('Error during call to suggestCharts:', error);\n",
              "          }\n",
              "          quickchartButtonEl.classList.remove('colab-df-spinner');\n",
              "          quickchartButtonEl.classList.add('colab-df-quickchart-complete');\n",
              "        }\n",
              "        (() => {\n",
              "          let quickchartButtonEl =\n",
              "            document.querySelector('#df-5a191b27-a66b-4042-8f3b-16fd2636a5ec button');\n",
              "          quickchartButtonEl.style.display =\n",
              "            google.colab.kernel.accessAllowed ? 'block' : 'none';\n",
              "        })();\n",
              "      </script>\n",
              "    </div>\n",
              "\n",
              "    </div>\n",
              "  </div>\n"
            ],
            "application/vnd.google.colaboratory.intrinsic+json": {
              "type": "dataframe",
              "variable_name": "data"
            }
          },
          "metadata": {},
          "execution_count": 31
        }
      ]
    },
    {
      "cell_type": "code",
      "source": [
        "#Suppression de la colonne Unnamed:0, elle n'est pas utile dans la dataframe\n",
        "data.drop('Unnamed: 0', axis=1, inplace=True)"
      ],
      "metadata": {
        "id": "zHRU1f9yQbxD"
      },
      "execution_count": 32,
      "outputs": []
    },
    {
      "cell_type": "code",
      "source": [
        "#Nombre de lignes et de colonnes\n",
        "data.shape"
      ],
      "metadata": {
        "colab": {
          "base_uri": "https://localhost:8080/"
        },
        "id": "4RNhmj1oPtS9",
        "outputId": "73256767-2cea-41c3-93bd-e57d6ccc7108"
      },
      "execution_count": 33,
      "outputs": [
        {
          "output_type": "execute_result",
          "data": {
            "text/plain": [
              "(185950, 10)"
            ]
          },
          "metadata": {},
          "execution_count": 33
        }
      ]
    },
    {
      "cell_type": "code",
      "source": [
        "data.info()"
      ],
      "metadata": {
        "colab": {
          "base_uri": "https://localhost:8080/"
        },
        "id": "fsliJuOnPyFF",
        "outputId": "925e3690-5ce7-42c9-e88f-c59ae36ff90d"
      },
      "execution_count": 34,
      "outputs": [
        {
          "output_type": "stream",
          "name": "stdout",
          "text": [
            "<class 'pandas.core.frame.DataFrame'>\n",
            "RangeIndex: 185950 entries, 0 to 185949\n",
            "Data columns (total 10 columns):\n",
            " #   Column            Non-Null Count   Dtype  \n",
            "---  ------            --------------   -----  \n",
            " 0   Order ID          185950 non-null  int64  \n",
            " 1   Product           185950 non-null  object \n",
            " 2   Quantity Ordered  185950 non-null  int64  \n",
            " 3   Price Each        185950 non-null  float64\n",
            " 4   Order Date        185950 non-null  object \n",
            " 5   Purchase Address  185950 non-null  object \n",
            " 6   Month             185950 non-null  int64  \n",
            " 7   Sales             185950 non-null  float64\n",
            " 8   City              185950 non-null  object \n",
            " 9   Hour              185950 non-null  int64  \n",
            "dtypes: float64(2), int64(4), object(4)\n",
            "memory usage: 14.2+ MB\n"
          ]
        }
      ]
    },
    {
      "cell_type": "code",
      "source": [
        "data.describe()"
      ],
      "metadata": {
        "colab": {
          "base_uri": "https://localhost:8080/",
          "height": 300
        },
        "id": "haPkaLwIRJqe",
        "outputId": "12b5e3b0-d04f-4a1a-b0a6-9b615321983e"
      },
      "execution_count": 35,
      "outputs": [
        {
          "output_type": "execute_result",
          "data": {
            "text/plain": [
              "            Order ID  Quantity Ordered     Price Each          Month  \\\n",
              "count  185950.000000     185950.000000  185950.000000  185950.000000   \n",
              "mean   230417.569379          1.124383     184.399735       7.059140   \n",
              "std     51512.737110          0.442793     332.731330       3.502996   \n",
              "min    141234.000000          1.000000       2.990000       1.000000   \n",
              "25%    185831.250000          1.000000      11.950000       4.000000   \n",
              "50%    230367.500000          1.000000      14.950000       7.000000   \n",
              "75%    275035.750000          1.000000     150.000000      10.000000   \n",
              "max    319670.000000          9.000000    1700.000000      12.000000   \n",
              "\n",
              "               Sales           Hour  \n",
              "count  185950.000000  185950.000000  \n",
              "mean      185.490917      14.413305  \n",
              "std       332.919771       5.423416  \n",
              "min         2.990000       0.000000  \n",
              "25%        11.950000      11.000000  \n",
              "50%        14.950000      15.000000  \n",
              "75%       150.000000      19.000000  \n",
              "max      3400.000000      23.000000  "
            ],
            "text/html": [
              "\n",
              "  <div id=\"df-a4287a05-b227-46d7-984e-11567d6c94ba\" class=\"colab-df-container\">\n",
              "    <div>\n",
              "<style scoped>\n",
              "    .dataframe tbody tr th:only-of-type {\n",
              "        vertical-align: middle;\n",
              "    }\n",
              "\n",
              "    .dataframe tbody tr th {\n",
              "        vertical-align: top;\n",
              "    }\n",
              "\n",
              "    .dataframe thead th {\n",
              "        text-align: right;\n",
              "    }\n",
              "</style>\n",
              "<table border=\"1\" class=\"dataframe\">\n",
              "  <thead>\n",
              "    <tr style=\"text-align: right;\">\n",
              "      <th></th>\n",
              "      <th>Order ID</th>\n",
              "      <th>Quantity Ordered</th>\n",
              "      <th>Price Each</th>\n",
              "      <th>Month</th>\n",
              "      <th>Sales</th>\n",
              "      <th>Hour</th>\n",
              "    </tr>\n",
              "  </thead>\n",
              "  <tbody>\n",
              "    <tr>\n",
              "      <th>count</th>\n",
              "      <td>185950.000000</td>\n",
              "      <td>185950.000000</td>\n",
              "      <td>185950.000000</td>\n",
              "      <td>185950.000000</td>\n",
              "      <td>185950.000000</td>\n",
              "      <td>185950.000000</td>\n",
              "    </tr>\n",
              "    <tr>\n",
              "      <th>mean</th>\n",
              "      <td>230417.569379</td>\n",
              "      <td>1.124383</td>\n",
              "      <td>184.399735</td>\n",
              "      <td>7.059140</td>\n",
              "      <td>185.490917</td>\n",
              "      <td>14.413305</td>\n",
              "    </tr>\n",
              "    <tr>\n",
              "      <th>std</th>\n",
              "      <td>51512.737110</td>\n",
              "      <td>0.442793</td>\n",
              "      <td>332.731330</td>\n",
              "      <td>3.502996</td>\n",
              "      <td>332.919771</td>\n",
              "      <td>5.423416</td>\n",
              "    </tr>\n",
              "    <tr>\n",
              "      <th>min</th>\n",
              "      <td>141234.000000</td>\n",
              "      <td>1.000000</td>\n",
              "      <td>2.990000</td>\n",
              "      <td>1.000000</td>\n",
              "      <td>2.990000</td>\n",
              "      <td>0.000000</td>\n",
              "    </tr>\n",
              "    <tr>\n",
              "      <th>25%</th>\n",
              "      <td>185831.250000</td>\n",
              "      <td>1.000000</td>\n",
              "      <td>11.950000</td>\n",
              "      <td>4.000000</td>\n",
              "      <td>11.950000</td>\n",
              "      <td>11.000000</td>\n",
              "    </tr>\n",
              "    <tr>\n",
              "      <th>50%</th>\n",
              "      <td>230367.500000</td>\n",
              "      <td>1.000000</td>\n",
              "      <td>14.950000</td>\n",
              "      <td>7.000000</td>\n",
              "      <td>14.950000</td>\n",
              "      <td>15.000000</td>\n",
              "    </tr>\n",
              "    <tr>\n",
              "      <th>75%</th>\n",
              "      <td>275035.750000</td>\n",
              "      <td>1.000000</td>\n",
              "      <td>150.000000</td>\n",
              "      <td>10.000000</td>\n",
              "      <td>150.000000</td>\n",
              "      <td>19.000000</td>\n",
              "    </tr>\n",
              "    <tr>\n",
              "      <th>max</th>\n",
              "      <td>319670.000000</td>\n",
              "      <td>9.000000</td>\n",
              "      <td>1700.000000</td>\n",
              "      <td>12.000000</td>\n",
              "      <td>3400.000000</td>\n",
              "      <td>23.000000</td>\n",
              "    </tr>\n",
              "  </tbody>\n",
              "</table>\n",
              "</div>\n",
              "    <div class=\"colab-df-buttons\">\n",
              "\n",
              "  <div class=\"colab-df-container\">\n",
              "    <button class=\"colab-df-convert\" onclick=\"convertToInteractive('df-a4287a05-b227-46d7-984e-11567d6c94ba')\"\n",
              "            title=\"Convert this dataframe to an interactive table.\"\n",
              "            style=\"display:none;\">\n",
              "\n",
              "  <svg xmlns=\"http://www.w3.org/2000/svg\" height=\"24px\" viewBox=\"0 -960 960 960\">\n",
              "    <path d=\"M120-120v-720h720v720H120Zm60-500h600v-160H180v160Zm220 220h160v-160H400v160Zm0 220h160v-160H400v160ZM180-400h160v-160H180v160Zm440 0h160v-160H620v160ZM180-180h160v-160H180v160Zm440 0h160v-160H620v160Z\"/>\n",
              "  </svg>\n",
              "    </button>\n",
              "\n",
              "  <style>\n",
              "    .colab-df-container {\n",
              "      display:flex;\n",
              "      gap: 12px;\n",
              "    }\n",
              "\n",
              "    .colab-df-convert {\n",
              "      background-color: #E8F0FE;\n",
              "      border: none;\n",
              "      border-radius: 50%;\n",
              "      cursor: pointer;\n",
              "      display: none;\n",
              "      fill: #1967D2;\n",
              "      height: 32px;\n",
              "      padding: 0 0 0 0;\n",
              "      width: 32px;\n",
              "    }\n",
              "\n",
              "    .colab-df-convert:hover {\n",
              "      background-color: #E2EBFA;\n",
              "      box-shadow: 0px 1px 2px rgba(60, 64, 67, 0.3), 0px 1px 3px 1px rgba(60, 64, 67, 0.15);\n",
              "      fill: #174EA6;\n",
              "    }\n",
              "\n",
              "    .colab-df-buttons div {\n",
              "      margin-bottom: 4px;\n",
              "    }\n",
              "\n",
              "    [theme=dark] .colab-df-convert {\n",
              "      background-color: #3B4455;\n",
              "      fill: #D2E3FC;\n",
              "    }\n",
              "\n",
              "    [theme=dark] .colab-df-convert:hover {\n",
              "      background-color: #434B5C;\n",
              "      box-shadow: 0px 1px 3px 1px rgba(0, 0, 0, 0.15);\n",
              "      filter: drop-shadow(0px 1px 2px rgba(0, 0, 0, 0.3));\n",
              "      fill: #FFFFFF;\n",
              "    }\n",
              "  </style>\n",
              "\n",
              "    <script>\n",
              "      const buttonEl =\n",
              "        document.querySelector('#df-a4287a05-b227-46d7-984e-11567d6c94ba button.colab-df-convert');\n",
              "      buttonEl.style.display =\n",
              "        google.colab.kernel.accessAllowed ? 'block' : 'none';\n",
              "\n",
              "      async function convertToInteractive(key) {\n",
              "        const element = document.querySelector('#df-a4287a05-b227-46d7-984e-11567d6c94ba');\n",
              "        const dataTable =\n",
              "          await google.colab.kernel.invokeFunction('convertToInteractive',\n",
              "                                                    [key], {});\n",
              "        if (!dataTable) return;\n",
              "\n",
              "        const docLinkHtml = 'Like what you see? Visit the ' +\n",
              "          '<a target=\"_blank\" href=https://colab.research.google.com/notebooks/data_table.ipynb>data table notebook</a>'\n",
              "          + ' to learn more about interactive tables.';\n",
              "        element.innerHTML = '';\n",
              "        dataTable['output_type'] = 'display_data';\n",
              "        await google.colab.output.renderOutput(dataTable, element);\n",
              "        const docLink = document.createElement('div');\n",
              "        docLink.innerHTML = docLinkHtml;\n",
              "        element.appendChild(docLink);\n",
              "      }\n",
              "    </script>\n",
              "  </div>\n",
              "\n",
              "\n",
              "    <div id=\"df-d6e41078-8c24-44e8-b9b6-b15a9a6d459e\">\n",
              "      <button class=\"colab-df-quickchart\" onclick=\"quickchart('df-d6e41078-8c24-44e8-b9b6-b15a9a6d459e')\"\n",
              "                title=\"Suggest charts\"\n",
              "                style=\"display:none;\">\n",
              "\n",
              "<svg xmlns=\"http://www.w3.org/2000/svg\" height=\"24px\"viewBox=\"0 0 24 24\"\n",
              "     width=\"24px\">\n",
              "    <g>\n",
              "        <path d=\"M19 3H5c-1.1 0-2 .9-2 2v14c0 1.1.9 2 2 2h14c1.1 0 2-.9 2-2V5c0-1.1-.9-2-2-2zM9 17H7v-7h2v7zm4 0h-2V7h2v10zm4 0h-2v-4h2v4z\"/>\n",
              "    </g>\n",
              "</svg>\n",
              "      </button>\n",
              "\n",
              "<style>\n",
              "  .colab-df-quickchart {\n",
              "      --bg-color: #E8F0FE;\n",
              "      --fill-color: #1967D2;\n",
              "      --hover-bg-color: #E2EBFA;\n",
              "      --hover-fill-color: #174EA6;\n",
              "      --disabled-fill-color: #AAA;\n",
              "      --disabled-bg-color: #DDD;\n",
              "  }\n",
              "\n",
              "  [theme=dark] .colab-df-quickchart {\n",
              "      --bg-color: #3B4455;\n",
              "      --fill-color: #D2E3FC;\n",
              "      --hover-bg-color: #434B5C;\n",
              "      --hover-fill-color: #FFFFFF;\n",
              "      --disabled-bg-color: #3B4455;\n",
              "      --disabled-fill-color: #666;\n",
              "  }\n",
              "\n",
              "  .colab-df-quickchart {\n",
              "    background-color: var(--bg-color);\n",
              "    border: none;\n",
              "    border-radius: 50%;\n",
              "    cursor: pointer;\n",
              "    display: none;\n",
              "    fill: var(--fill-color);\n",
              "    height: 32px;\n",
              "    padding: 0;\n",
              "    width: 32px;\n",
              "  }\n",
              "\n",
              "  .colab-df-quickchart:hover {\n",
              "    background-color: var(--hover-bg-color);\n",
              "    box-shadow: 0 1px 2px rgba(60, 64, 67, 0.3), 0 1px 3px 1px rgba(60, 64, 67, 0.15);\n",
              "    fill: var(--button-hover-fill-color);\n",
              "  }\n",
              "\n",
              "  .colab-df-quickchart-complete:disabled,\n",
              "  .colab-df-quickchart-complete:disabled:hover {\n",
              "    background-color: var(--disabled-bg-color);\n",
              "    fill: var(--disabled-fill-color);\n",
              "    box-shadow: none;\n",
              "  }\n",
              "\n",
              "  .colab-df-spinner {\n",
              "    border: 2px solid var(--fill-color);\n",
              "    border-color: transparent;\n",
              "    border-bottom-color: var(--fill-color);\n",
              "    animation:\n",
              "      spin 1s steps(1) infinite;\n",
              "  }\n",
              "\n",
              "  @keyframes spin {\n",
              "    0% {\n",
              "      border-color: transparent;\n",
              "      border-bottom-color: var(--fill-color);\n",
              "      border-left-color: var(--fill-color);\n",
              "    }\n",
              "    20% {\n",
              "      border-color: transparent;\n",
              "      border-left-color: var(--fill-color);\n",
              "      border-top-color: var(--fill-color);\n",
              "    }\n",
              "    30% {\n",
              "      border-color: transparent;\n",
              "      border-left-color: var(--fill-color);\n",
              "      border-top-color: var(--fill-color);\n",
              "      border-right-color: var(--fill-color);\n",
              "    }\n",
              "    40% {\n",
              "      border-color: transparent;\n",
              "      border-right-color: var(--fill-color);\n",
              "      border-top-color: var(--fill-color);\n",
              "    }\n",
              "    60% {\n",
              "      border-color: transparent;\n",
              "      border-right-color: var(--fill-color);\n",
              "    }\n",
              "    80% {\n",
              "      border-color: transparent;\n",
              "      border-right-color: var(--fill-color);\n",
              "      border-bottom-color: var(--fill-color);\n",
              "    }\n",
              "    90% {\n",
              "      border-color: transparent;\n",
              "      border-bottom-color: var(--fill-color);\n",
              "    }\n",
              "  }\n",
              "</style>\n",
              "\n",
              "      <script>\n",
              "        async function quickchart(key) {\n",
              "          const quickchartButtonEl =\n",
              "            document.querySelector('#' + key + ' button');\n",
              "          quickchartButtonEl.disabled = true;  // To prevent multiple clicks.\n",
              "          quickchartButtonEl.classList.add('colab-df-spinner');\n",
              "          try {\n",
              "            const charts = await google.colab.kernel.invokeFunction(\n",
              "                'suggestCharts', [key], {});\n",
              "          } catch (error) {\n",
              "            console.error('Error during call to suggestCharts:', error);\n",
              "          }\n",
              "          quickchartButtonEl.classList.remove('colab-df-spinner');\n",
              "          quickchartButtonEl.classList.add('colab-df-quickchart-complete');\n",
              "        }\n",
              "        (() => {\n",
              "          let quickchartButtonEl =\n",
              "            document.querySelector('#df-d6e41078-8c24-44e8-b9b6-b15a9a6d459e button');\n",
              "          quickchartButtonEl.style.display =\n",
              "            google.colab.kernel.accessAllowed ? 'block' : 'none';\n",
              "        })();\n",
              "      </script>\n",
              "    </div>\n",
              "\n",
              "    </div>\n",
              "  </div>\n"
            ],
            "application/vnd.google.colaboratory.intrinsic+json": {
              "type": "dataframe",
              "summary": "{\n  \"name\": \"data\",\n  \"rows\": 8,\n  \"fields\": [\n    {\n      \"column\": \"Order ID\",\n      \"properties\": {\n        \"dtype\": \"number\",\n        \"std\": 82504.24937775145,\n        \"min\": 51512.73710999608,\n        \"max\": 319670.0,\n        \"num_unique_values\": 8,\n        \"samples\": [\n          230417.5693788653,\n          230367.5,\n          185950.0\n        ],\n        \"semantic_type\": \"\",\n        \"description\": \"\"\n      }\n    },\n    {\n      \"column\": \"Quantity Ordered\",\n      \"properties\": {\n        \"dtype\": \"number\",\n        \"std\": 65742.51728834986,\n        \"min\": 0.44279262402848835,\n        \"max\": 185950.0,\n        \"num_unique_values\": 5,\n        \"samples\": [\n          1.1243828986286637,\n          9.0,\n          0.44279262402848835\n        ],\n        \"semantic_type\": \"\",\n        \"description\": \"\"\n      }\n    },\n    {\n      \"column\": \"Price Each\",\n      \"properties\": {\n        \"dtype\": \"number\",\n        \"std\": 65624.61977648125,\n        \"min\": 2.99,\n        \"max\": 185950.0,\n        \"num_unique_values\": 8,\n        \"samples\": [\n          184.3997347674106,\n          14.95,\n          185950.0\n        ],\n        \"semantic_type\": \"\",\n        \"description\": \"\"\n      }\n    },\n    {\n      \"column\": \"Month\",\n      \"properties\": {\n        \"dtype\": \"number\",\n        \"std\": 65741.00234915677,\n        \"min\": 1.0,\n        \"max\": 185950.0,\n        \"num_unique_values\": 8,\n        \"samples\": [\n          7.059139553643453,\n          7.0,\n          185950.0\n        ],\n        \"semantic_type\": \"\",\n        \"description\": \"\"\n      }\n    },\n    {\n      \"column\": \"Sales\",\n      \"properties\": {\n        \"dtype\": \"number\",\n        \"std\": 65546.42416245729,\n        \"min\": 2.99,\n        \"max\": 185950.0,\n        \"num_unique_values\": 8,\n        \"samples\": [\n          185.490916751815,\n          14.95,\n          185950.0\n        ],\n        \"semantic_type\": \"\",\n        \"description\": \"\"\n      }\n    },\n    {\n      \"column\": \"Hour\",\n      \"properties\": {\n        \"dtype\": \"number\",\n        \"std\": 65738.8169595582,\n        \"min\": 0.0,\n        \"max\": 185950.0,\n        \"num_unique_values\": 8,\n        \"samples\": [\n          14.413304651788115,\n          15.0,\n          185950.0\n        ],\n        \"semantic_type\": \"\",\n        \"description\": \"\"\n      }\n    }\n  ]\n}"
            }
          },
          "metadata": {},
          "execution_count": 35
        }
      ]
    },
    {
      "cell_type": "code",
      "source": [
        "#Verifier valeurs nulles\n",
        "print(data.isnull().sum())"
      ],
      "metadata": {
        "colab": {
          "base_uri": "https://localhost:8080/"
        },
        "id": "ZclXRIwwRWab",
        "outputId": "3cdf8576-f3b4-4223-a2a0-05e222014f4d"
      },
      "execution_count": 36,
      "outputs": [
        {
          "output_type": "stream",
          "name": "stdout",
          "text": [
            "Order ID            0\n",
            "Product             0\n",
            "Quantity Ordered    0\n",
            "Price Each          0\n",
            "Order Date          0\n",
            "Purchase Address    0\n",
            "Month               0\n",
            "Sales               0\n",
            "City                0\n",
            "Hour                0\n",
            "dtype: int64\n"
          ]
        }
      ]
    },
    {
      "cell_type": "code",
      "source": [
        "#Voir les valeurs uniques\n",
        "for col in data.columns:\n",
        "    print(f\"{col} - {data[col].nunique()} valeurs uniques\")"
      ],
      "metadata": {
        "colab": {
          "base_uri": "https://localhost:8080/"
        },
        "id": "JZAA-ntZRaKr",
        "outputId": "d79d6d49-84f9-4099-b36c-6471282b9aab"
      },
      "execution_count": 37,
      "outputs": [
        {
          "output_type": "stream",
          "name": "stdout",
          "text": [
            "Order ID - 178437 valeurs uniques\n",
            "Product - 19 valeurs uniques\n",
            "Quantity Ordered - 9 valeurs uniques\n",
            "Price Each - 17 valeurs uniques\n",
            "Order Date - 142395 valeurs uniques\n",
            "Purchase Address - 140787 valeurs uniques\n",
            "Month - 12 valeurs uniques\n",
            "Sales - 53 valeurs uniques\n",
            "City - 9 valeurs uniques\n",
            "Hour - 24 valeurs uniques\n"
          ]
        }
      ]
    },
    {
      "cell_type": "code",
      "source": [
        "#Convertir la colonne Order Date en datetime\n",
        "data[\"Order Date\"] = pd.to_datetime(data[\"Order Date\"], errors='coerce')"
      ],
      "metadata": {
        "id": "EGIfdmWeSlFy"
      },
      "execution_count": 38,
      "outputs": []
    },
    {
      "cell_type": "code",
      "source": [
        "#Verifier si des lignes de Order Date ont devenues NAT apres la conversion\n",
        "print(data[data[\"Order Date\"].isna()])"
      ],
      "metadata": {
        "colab": {
          "base_uri": "https://localhost:8080/"
        },
        "id": "GOxiN7w-WFFV",
        "outputId": "d96090b9-abf3-4eab-d753-b07c2d6ba5f5"
      },
      "execution_count": 39,
      "outputs": [
        {
          "output_type": "stream",
          "name": "stdout",
          "text": [
            "Empty DataFrame\n",
            "Columns: [Order ID, Product, Quantity Ordered, Price Each, Order Date, Purchase Address, Month, Sales, City, Hour]\n",
            "Index: []\n"
          ]
        }
      ]
    },
    {
      "cell_type": "code",
      "source": [
        "#Verifier si la colonne Check Sales est correcte\n",
        "data[\"Check Sales\"] = data[\"Quantity Ordered\"] * data[\"Price Each\"]\n",
        "data[\"Sales_correct\"] = round(data[\"Check Sales\"], 2) == round(data[\"Sales\"], 2)\n",
        "\n",
        "# Afficher les lignes où Sales est incorrect\n",
        "print(data[data[\"Sales_correct\"] == False])"
      ],
      "metadata": {
        "colab": {
          "base_uri": "https://localhost:8080/"
        },
        "id": "Ps0fy9jfSyI_",
        "outputId": "d8680a88-4641-4b68-e469-219edff83d4c"
      },
      "execution_count": 40,
      "outputs": [
        {
          "output_type": "stream",
          "name": "stdout",
          "text": [
            "Empty DataFrame\n",
            "Columns: [Order ID, Product, Quantity Ordered, Price Each, Order Date, Purchase Address, Month, Sales, City, Hour, Check Sales, Sales_correct]\n",
            "Index: []\n"
          ]
        }
      ]
    },
    {
      "cell_type": "code",
      "source": [
        "data.drop(\"Sales_correct\", axis=1, inplace=True)"
      ],
      "metadata": {
        "id": "Hep3cNBJV5Z9"
      },
      "execution_count": 41,
      "outputs": []
    },
    {
      "cell_type": "code",
      "source": [
        "data.drop(\"Check Sales\", axis=1, inplace=True)"
      ],
      "metadata": {
        "id": "lput6YuBdPRo"
      },
      "execution_count": 42,
      "outputs": []
    },
    {
      "cell_type": "code",
      "source": [
        "#Creation de nouvelles colonnes a des fins d'analyses\n",
        "data[\"Day\"] = data[\"Order Date\"].dt.day\n",
        "data[\"Weekday\"] = data[\"Order Date\"].dt.day_name()\n",
        "data[\"Quarter\"] = data[\"Order Date\"].dt.quarter"
      ],
      "metadata": {
        "id": "NUwNTwH2T07b"
      },
      "execution_count": 43,
      "outputs": []
    },
    {
      "cell_type": "code",
      "source": [
        "# Compter le nombre de doublons (toutes les colonnes)\n",
        "print(f\"Nombre de doublons exacts : {data.duplicated().sum()}\")"
      ],
      "metadata": {
        "colab": {
          "base_uri": "https://localhost:8080/"
        },
        "id": "IBNrcc-lXcfF",
        "outputId": "f3546f9e-a759-4990-a230-9364d52809a8"
      },
      "execution_count": 44,
      "outputs": [
        {
          "output_type": "stream",
          "name": "stdout",
          "text": [
            "Nombre de doublons exacts : 264\n"
          ]
        }
      ]
    },
    {
      "cell_type": "code",
      "source": [
        "print(f\"Nombre de doublons sur 'Order ID' : {data.duplicated(subset=['Order ID']).sum()}\")"
      ],
      "metadata": {
        "colab": {
          "base_uri": "https://localhost:8080/"
        },
        "id": "P2JQJ8QyX0VM",
        "outputId": "171b9458-984b-4f00-f456-941446f25357"
      },
      "execution_count": 45,
      "outputs": [
        {
          "output_type": "stream",
          "name": "stdout",
          "text": [
            "Nombre de doublons sur 'Order ID' : 7513\n"
          ]
        }
      ]
    },
    {
      "cell_type": "code",
      "source": [
        "#Affichage des doublons sur la colonne Order ID afin de determiner s'il est necessaires de les supprimer\n",
        "#NB Si une commande contient plusieurs produits differents, l'orderId sera dupliquee\n",
        "data[data.duplicated(subset=['Order ID'], keep=False)].sort_values(by=[\"Order ID\"])"
      ],
      "metadata": {
        "colab": {
          "base_uri": "https://localhost:8080/",
          "height": 424
        },
        "id": "D0T9XfbJYcSw",
        "outputId": "787c2076-e875-47b7-9cf6-ff0ec68ff2be"
      },
      "execution_count": 46,
      "outputs": [
        {
          "output_type": "execute_result",
          "data": {
            "text/plain": [
              "        Order ID                   Product  Quantity Ordered  Price Each  \\\n",
              "136834    141275      USB-C Charging Cable                 1       11.95   \n",
              "136835    141275          Wired Headphones                 1       11.99   \n",
              "136850    141290  Apple Airpods Headphones                 1      150.00   \n",
              "136851    141290     AA Batteries (4-pack)                 3        3.84   \n",
              "136926    141365           Vareebadd Phone                 1      400.00   \n",
              "...          ...                       ...               ...         ...   \n",
              "24899     319584                    iPhone                 1      700.00   \n",
              "24912     319596                    iPhone                 1      700.00   \n",
              "24913     319596  Lightning Charging Cable                 1       14.95   \n",
              "24949     319631  Lightning Charging Cable                 1       14.95   \n",
              "24948     319631    34in Ultrawide Monitor                 1      379.99   \n",
              "\n",
              "                Order Date                        Purchase Address  Month  \\\n",
              "136834 2019-01-07 16:06:00         610 Walnut St, Austin, TX 73301      1   \n",
              "136835 2019-01-07 16:06:00         610 Walnut St, Austin, TX 73301      1   \n",
              "136850 2019-01-02 08:25:00         4 1st St, Los Angeles, CA 90001      1   \n",
              "136851 2019-01-02 08:25:00         4 1st St, Los Angeles, CA 90001      1   \n",
              "136926 2019-01-10 11:19:00  20 Dogwood St, New York City, NY 10001      1   \n",
              "...                    ...                                     ...    ...   \n",
              "24899  2019-12-11 00:30:00       537 Sunset St, Portland, OR 97035     12   \n",
              "24912  2019-12-01 08:44:00    436 14th St, New York City, NY 10001     12   \n",
              "24913  2019-12-01 08:44:00    436 14th St, New York City, NY 10001     12   \n",
              "24949  2019-12-17 22:35:00       363 Highland St, Austin, TX 73301     12   \n",
              "24948  2019-12-17 22:35:00       363 Highland St, Austin, TX 73301     12   \n",
              "\n",
              "         Sales            City  Hour  Day    Weekday  Quarter  \n",
              "136834   11.95          Austin    16    7     Monday        1  \n",
              "136835   11.99          Austin    16    7     Monday        1  \n",
              "136850  150.00     Los Angeles     8    2  Wednesday        1  \n",
              "136851   11.52     Los Angeles     8    2  Wednesday        1  \n",
              "136926  400.00   New York City    11   10   Thursday        1  \n",
              "...        ...             ...   ...  ...        ...      ...  \n",
              "24899   700.00        Portland     0   11  Wednesday        4  \n",
              "24912   700.00   New York City     8    1     Sunday        4  \n",
              "24913    14.95   New York City     8    1     Sunday        4  \n",
              "24949    14.95          Austin    22   17    Tuesday        4  \n",
              "24948   379.99          Austin    22   17    Tuesday        4  \n",
              "\n",
              "[14649 rows x 13 columns]"
            ],
            "text/html": [
              "\n",
              "  <div id=\"df-12334c8c-8403-429a-a7b7-45f6e868e3d9\" class=\"colab-df-container\">\n",
              "    <div>\n",
              "<style scoped>\n",
              "    .dataframe tbody tr th:only-of-type {\n",
              "        vertical-align: middle;\n",
              "    }\n",
              "\n",
              "    .dataframe tbody tr th {\n",
              "        vertical-align: top;\n",
              "    }\n",
              "\n",
              "    .dataframe thead th {\n",
              "        text-align: right;\n",
              "    }\n",
              "</style>\n",
              "<table border=\"1\" class=\"dataframe\">\n",
              "  <thead>\n",
              "    <tr style=\"text-align: right;\">\n",
              "      <th></th>\n",
              "      <th>Order ID</th>\n",
              "      <th>Product</th>\n",
              "      <th>Quantity Ordered</th>\n",
              "      <th>Price Each</th>\n",
              "      <th>Order Date</th>\n",
              "      <th>Purchase Address</th>\n",
              "      <th>Month</th>\n",
              "      <th>Sales</th>\n",
              "      <th>City</th>\n",
              "      <th>Hour</th>\n",
              "      <th>Day</th>\n",
              "      <th>Weekday</th>\n",
              "      <th>Quarter</th>\n",
              "    </tr>\n",
              "  </thead>\n",
              "  <tbody>\n",
              "    <tr>\n",
              "      <th>136834</th>\n",
              "      <td>141275</td>\n",
              "      <td>USB-C Charging Cable</td>\n",
              "      <td>1</td>\n",
              "      <td>11.95</td>\n",
              "      <td>2019-01-07 16:06:00</td>\n",
              "      <td>610 Walnut St, Austin, TX 73301</td>\n",
              "      <td>1</td>\n",
              "      <td>11.95</td>\n",
              "      <td>Austin</td>\n",
              "      <td>16</td>\n",
              "      <td>7</td>\n",
              "      <td>Monday</td>\n",
              "      <td>1</td>\n",
              "    </tr>\n",
              "    <tr>\n",
              "      <th>136835</th>\n",
              "      <td>141275</td>\n",
              "      <td>Wired Headphones</td>\n",
              "      <td>1</td>\n",
              "      <td>11.99</td>\n",
              "      <td>2019-01-07 16:06:00</td>\n",
              "      <td>610 Walnut St, Austin, TX 73301</td>\n",
              "      <td>1</td>\n",
              "      <td>11.99</td>\n",
              "      <td>Austin</td>\n",
              "      <td>16</td>\n",
              "      <td>7</td>\n",
              "      <td>Monday</td>\n",
              "      <td>1</td>\n",
              "    </tr>\n",
              "    <tr>\n",
              "      <th>136850</th>\n",
              "      <td>141290</td>\n",
              "      <td>Apple Airpods Headphones</td>\n",
              "      <td>1</td>\n",
              "      <td>150.00</td>\n",
              "      <td>2019-01-02 08:25:00</td>\n",
              "      <td>4 1st St, Los Angeles, CA 90001</td>\n",
              "      <td>1</td>\n",
              "      <td>150.00</td>\n",
              "      <td>Los Angeles</td>\n",
              "      <td>8</td>\n",
              "      <td>2</td>\n",
              "      <td>Wednesday</td>\n",
              "      <td>1</td>\n",
              "    </tr>\n",
              "    <tr>\n",
              "      <th>136851</th>\n",
              "      <td>141290</td>\n",
              "      <td>AA Batteries (4-pack)</td>\n",
              "      <td>3</td>\n",
              "      <td>3.84</td>\n",
              "      <td>2019-01-02 08:25:00</td>\n",
              "      <td>4 1st St, Los Angeles, CA 90001</td>\n",
              "      <td>1</td>\n",
              "      <td>11.52</td>\n",
              "      <td>Los Angeles</td>\n",
              "      <td>8</td>\n",
              "      <td>2</td>\n",
              "      <td>Wednesday</td>\n",
              "      <td>1</td>\n",
              "    </tr>\n",
              "    <tr>\n",
              "      <th>136926</th>\n",
              "      <td>141365</td>\n",
              "      <td>Vareebadd Phone</td>\n",
              "      <td>1</td>\n",
              "      <td>400.00</td>\n",
              "      <td>2019-01-10 11:19:00</td>\n",
              "      <td>20 Dogwood St, New York City, NY 10001</td>\n",
              "      <td>1</td>\n",
              "      <td>400.00</td>\n",
              "      <td>New York City</td>\n",
              "      <td>11</td>\n",
              "      <td>10</td>\n",
              "      <td>Thursday</td>\n",
              "      <td>1</td>\n",
              "    </tr>\n",
              "    <tr>\n",
              "      <th>...</th>\n",
              "      <td>...</td>\n",
              "      <td>...</td>\n",
              "      <td>...</td>\n",
              "      <td>...</td>\n",
              "      <td>...</td>\n",
              "      <td>...</td>\n",
              "      <td>...</td>\n",
              "      <td>...</td>\n",
              "      <td>...</td>\n",
              "      <td>...</td>\n",
              "      <td>...</td>\n",
              "      <td>...</td>\n",
              "      <td>...</td>\n",
              "    </tr>\n",
              "    <tr>\n",
              "      <th>24899</th>\n",
              "      <td>319584</td>\n",
              "      <td>iPhone</td>\n",
              "      <td>1</td>\n",
              "      <td>700.00</td>\n",
              "      <td>2019-12-11 00:30:00</td>\n",
              "      <td>537 Sunset St, Portland, OR 97035</td>\n",
              "      <td>12</td>\n",
              "      <td>700.00</td>\n",
              "      <td>Portland</td>\n",
              "      <td>0</td>\n",
              "      <td>11</td>\n",
              "      <td>Wednesday</td>\n",
              "      <td>4</td>\n",
              "    </tr>\n",
              "    <tr>\n",
              "      <th>24912</th>\n",
              "      <td>319596</td>\n",
              "      <td>iPhone</td>\n",
              "      <td>1</td>\n",
              "      <td>700.00</td>\n",
              "      <td>2019-12-01 08:44:00</td>\n",
              "      <td>436 14th St, New York City, NY 10001</td>\n",
              "      <td>12</td>\n",
              "      <td>700.00</td>\n",
              "      <td>New York City</td>\n",
              "      <td>8</td>\n",
              "      <td>1</td>\n",
              "      <td>Sunday</td>\n",
              "      <td>4</td>\n",
              "    </tr>\n",
              "    <tr>\n",
              "      <th>24913</th>\n",
              "      <td>319596</td>\n",
              "      <td>Lightning Charging Cable</td>\n",
              "      <td>1</td>\n",
              "      <td>14.95</td>\n",
              "      <td>2019-12-01 08:44:00</td>\n",
              "      <td>436 14th St, New York City, NY 10001</td>\n",
              "      <td>12</td>\n",
              "      <td>14.95</td>\n",
              "      <td>New York City</td>\n",
              "      <td>8</td>\n",
              "      <td>1</td>\n",
              "      <td>Sunday</td>\n",
              "      <td>4</td>\n",
              "    </tr>\n",
              "    <tr>\n",
              "      <th>24949</th>\n",
              "      <td>319631</td>\n",
              "      <td>Lightning Charging Cable</td>\n",
              "      <td>1</td>\n",
              "      <td>14.95</td>\n",
              "      <td>2019-12-17 22:35:00</td>\n",
              "      <td>363 Highland St, Austin, TX 73301</td>\n",
              "      <td>12</td>\n",
              "      <td>14.95</td>\n",
              "      <td>Austin</td>\n",
              "      <td>22</td>\n",
              "      <td>17</td>\n",
              "      <td>Tuesday</td>\n",
              "      <td>4</td>\n",
              "    </tr>\n",
              "    <tr>\n",
              "      <th>24948</th>\n",
              "      <td>319631</td>\n",
              "      <td>34in Ultrawide Monitor</td>\n",
              "      <td>1</td>\n",
              "      <td>379.99</td>\n",
              "      <td>2019-12-17 22:35:00</td>\n",
              "      <td>363 Highland St, Austin, TX 73301</td>\n",
              "      <td>12</td>\n",
              "      <td>379.99</td>\n",
              "      <td>Austin</td>\n",
              "      <td>22</td>\n",
              "      <td>17</td>\n",
              "      <td>Tuesday</td>\n",
              "      <td>4</td>\n",
              "    </tr>\n",
              "  </tbody>\n",
              "</table>\n",
              "<p>14649 rows × 13 columns</p>\n",
              "</div>\n",
              "    <div class=\"colab-df-buttons\">\n",
              "\n",
              "  <div class=\"colab-df-container\">\n",
              "    <button class=\"colab-df-convert\" onclick=\"convertToInteractive('df-12334c8c-8403-429a-a7b7-45f6e868e3d9')\"\n",
              "            title=\"Convert this dataframe to an interactive table.\"\n",
              "            style=\"display:none;\">\n",
              "\n",
              "  <svg xmlns=\"http://www.w3.org/2000/svg\" height=\"24px\" viewBox=\"0 -960 960 960\">\n",
              "    <path d=\"M120-120v-720h720v720H120Zm60-500h600v-160H180v160Zm220 220h160v-160H400v160Zm0 220h160v-160H400v160ZM180-400h160v-160H180v160Zm440 0h160v-160H620v160ZM180-180h160v-160H180v160Zm440 0h160v-160H620v160Z\"/>\n",
              "  </svg>\n",
              "    </button>\n",
              "\n",
              "  <style>\n",
              "    .colab-df-container {\n",
              "      display:flex;\n",
              "      gap: 12px;\n",
              "    }\n",
              "\n",
              "    .colab-df-convert {\n",
              "      background-color: #E8F0FE;\n",
              "      border: none;\n",
              "      border-radius: 50%;\n",
              "      cursor: pointer;\n",
              "      display: none;\n",
              "      fill: #1967D2;\n",
              "      height: 32px;\n",
              "      padding: 0 0 0 0;\n",
              "      width: 32px;\n",
              "    }\n",
              "\n",
              "    .colab-df-convert:hover {\n",
              "      background-color: #E2EBFA;\n",
              "      box-shadow: 0px 1px 2px rgba(60, 64, 67, 0.3), 0px 1px 3px 1px rgba(60, 64, 67, 0.15);\n",
              "      fill: #174EA6;\n",
              "    }\n",
              "\n",
              "    .colab-df-buttons div {\n",
              "      margin-bottom: 4px;\n",
              "    }\n",
              "\n",
              "    [theme=dark] .colab-df-convert {\n",
              "      background-color: #3B4455;\n",
              "      fill: #D2E3FC;\n",
              "    }\n",
              "\n",
              "    [theme=dark] .colab-df-convert:hover {\n",
              "      background-color: #434B5C;\n",
              "      box-shadow: 0px 1px 3px 1px rgba(0, 0, 0, 0.15);\n",
              "      filter: drop-shadow(0px 1px 2px rgba(0, 0, 0, 0.3));\n",
              "      fill: #FFFFFF;\n",
              "    }\n",
              "  </style>\n",
              "\n",
              "    <script>\n",
              "      const buttonEl =\n",
              "        document.querySelector('#df-12334c8c-8403-429a-a7b7-45f6e868e3d9 button.colab-df-convert');\n",
              "      buttonEl.style.display =\n",
              "        google.colab.kernel.accessAllowed ? 'block' : 'none';\n",
              "\n",
              "      async function convertToInteractive(key) {\n",
              "        const element = document.querySelector('#df-12334c8c-8403-429a-a7b7-45f6e868e3d9');\n",
              "        const dataTable =\n",
              "          await google.colab.kernel.invokeFunction('convertToInteractive',\n",
              "                                                    [key], {});\n",
              "        if (!dataTable) return;\n",
              "\n",
              "        const docLinkHtml = 'Like what you see? Visit the ' +\n",
              "          '<a target=\"_blank\" href=https://colab.research.google.com/notebooks/data_table.ipynb>data table notebook</a>'\n",
              "          + ' to learn more about interactive tables.';\n",
              "        element.innerHTML = '';\n",
              "        dataTable['output_type'] = 'display_data';\n",
              "        await google.colab.output.renderOutput(dataTable, element);\n",
              "        const docLink = document.createElement('div');\n",
              "        docLink.innerHTML = docLinkHtml;\n",
              "        element.appendChild(docLink);\n",
              "      }\n",
              "    </script>\n",
              "  </div>\n",
              "\n",
              "\n",
              "    <div id=\"df-47263d12-18f2-49a5-b16d-8c6ce9a863bb\">\n",
              "      <button class=\"colab-df-quickchart\" onclick=\"quickchart('df-47263d12-18f2-49a5-b16d-8c6ce9a863bb')\"\n",
              "                title=\"Suggest charts\"\n",
              "                style=\"display:none;\">\n",
              "\n",
              "<svg xmlns=\"http://www.w3.org/2000/svg\" height=\"24px\"viewBox=\"0 0 24 24\"\n",
              "     width=\"24px\">\n",
              "    <g>\n",
              "        <path d=\"M19 3H5c-1.1 0-2 .9-2 2v14c0 1.1.9 2 2 2h14c1.1 0 2-.9 2-2V5c0-1.1-.9-2-2-2zM9 17H7v-7h2v7zm4 0h-2V7h2v10zm4 0h-2v-4h2v4z\"/>\n",
              "    </g>\n",
              "</svg>\n",
              "      </button>\n",
              "\n",
              "<style>\n",
              "  .colab-df-quickchart {\n",
              "      --bg-color: #E8F0FE;\n",
              "      --fill-color: #1967D2;\n",
              "      --hover-bg-color: #E2EBFA;\n",
              "      --hover-fill-color: #174EA6;\n",
              "      --disabled-fill-color: #AAA;\n",
              "      --disabled-bg-color: #DDD;\n",
              "  }\n",
              "\n",
              "  [theme=dark] .colab-df-quickchart {\n",
              "      --bg-color: #3B4455;\n",
              "      --fill-color: #D2E3FC;\n",
              "      --hover-bg-color: #434B5C;\n",
              "      --hover-fill-color: #FFFFFF;\n",
              "      --disabled-bg-color: #3B4455;\n",
              "      --disabled-fill-color: #666;\n",
              "  }\n",
              "\n",
              "  .colab-df-quickchart {\n",
              "    background-color: var(--bg-color);\n",
              "    border: none;\n",
              "    border-radius: 50%;\n",
              "    cursor: pointer;\n",
              "    display: none;\n",
              "    fill: var(--fill-color);\n",
              "    height: 32px;\n",
              "    padding: 0;\n",
              "    width: 32px;\n",
              "  }\n",
              "\n",
              "  .colab-df-quickchart:hover {\n",
              "    background-color: var(--hover-bg-color);\n",
              "    box-shadow: 0 1px 2px rgba(60, 64, 67, 0.3), 0 1px 3px 1px rgba(60, 64, 67, 0.15);\n",
              "    fill: var(--button-hover-fill-color);\n",
              "  }\n",
              "\n",
              "  .colab-df-quickchart-complete:disabled,\n",
              "  .colab-df-quickchart-complete:disabled:hover {\n",
              "    background-color: var(--disabled-bg-color);\n",
              "    fill: var(--disabled-fill-color);\n",
              "    box-shadow: none;\n",
              "  }\n",
              "\n",
              "  .colab-df-spinner {\n",
              "    border: 2px solid var(--fill-color);\n",
              "    border-color: transparent;\n",
              "    border-bottom-color: var(--fill-color);\n",
              "    animation:\n",
              "      spin 1s steps(1) infinite;\n",
              "  }\n",
              "\n",
              "  @keyframes spin {\n",
              "    0% {\n",
              "      border-color: transparent;\n",
              "      border-bottom-color: var(--fill-color);\n",
              "      border-left-color: var(--fill-color);\n",
              "    }\n",
              "    20% {\n",
              "      border-color: transparent;\n",
              "      border-left-color: var(--fill-color);\n",
              "      border-top-color: var(--fill-color);\n",
              "    }\n",
              "    30% {\n",
              "      border-color: transparent;\n",
              "      border-left-color: var(--fill-color);\n",
              "      border-top-color: var(--fill-color);\n",
              "      border-right-color: var(--fill-color);\n",
              "    }\n",
              "    40% {\n",
              "      border-color: transparent;\n",
              "      border-right-color: var(--fill-color);\n",
              "      border-top-color: var(--fill-color);\n",
              "    }\n",
              "    60% {\n",
              "      border-color: transparent;\n",
              "      border-right-color: var(--fill-color);\n",
              "    }\n",
              "    80% {\n",
              "      border-color: transparent;\n",
              "      border-right-color: var(--fill-color);\n",
              "      border-bottom-color: var(--fill-color);\n",
              "    }\n",
              "    90% {\n",
              "      border-color: transparent;\n",
              "      border-bottom-color: var(--fill-color);\n",
              "    }\n",
              "  }\n",
              "</style>\n",
              "\n",
              "      <script>\n",
              "        async function quickchart(key) {\n",
              "          const quickchartButtonEl =\n",
              "            document.querySelector('#' + key + ' button');\n",
              "          quickchartButtonEl.disabled = true;  // To prevent multiple clicks.\n",
              "          quickchartButtonEl.classList.add('colab-df-spinner');\n",
              "          try {\n",
              "            const charts = await google.colab.kernel.invokeFunction(\n",
              "                'suggestCharts', [key], {});\n",
              "          } catch (error) {\n",
              "            console.error('Error during call to suggestCharts:', error);\n",
              "          }\n",
              "          quickchartButtonEl.classList.remove('colab-df-spinner');\n",
              "          quickchartButtonEl.classList.add('colab-df-quickchart-complete');\n",
              "        }\n",
              "        (() => {\n",
              "          let quickchartButtonEl =\n",
              "            document.querySelector('#df-47263d12-18f2-49a5-b16d-8c6ce9a863bb button');\n",
              "          quickchartButtonEl.style.display =\n",
              "            google.colab.kernel.accessAllowed ? 'block' : 'none';\n",
              "        })();\n",
              "      </script>\n",
              "    </div>\n",
              "\n",
              "    </div>\n",
              "  </div>\n"
            ],
            "application/vnd.google.colaboratory.intrinsic+json": {
              "type": "dataframe",
              "summary": "{\n  \"name\": \"data[data\",\n  \"rows\": 14649,\n  \"fields\": [\n    {\n      \"column\": \"Order ID\",\n      \"properties\": {\n        \"dtype\": \"number\",\n        \"std\": 51531,\n        \"min\": 141275,\n        \"max\": 319631,\n        \"num_unique_values\": 7136,\n        \"samples\": [\n          203872,\n          275717,\n          151616\n        ],\n        \"semantic_type\": \"\",\n        \"description\": \"\"\n      }\n    },\n    {\n      \"column\": \"Product\",\n      \"properties\": {\n        \"dtype\": \"category\",\n        \"num_unique_values\": 19,\n        \"samples\": [\n          \"USB-C Charging Cable\",\n          \"Google Phone\",\n          \"34in Ultrawide Monitor\"\n        ],\n        \"semantic_type\": \"\",\n        \"description\": \"\"\n      }\n    },\n    {\n      \"column\": \"Quantity Ordered\",\n      \"properties\": {\n        \"dtype\": \"number\",\n        \"std\": 0,\n        \"min\": 1,\n        \"max\": 7,\n        \"num_unique_values\": 7,\n        \"samples\": [\n          1,\n          3,\n          6\n        ],\n        \"semantic_type\": \"\",\n        \"description\": \"\"\n      }\n    },\n    {\n      \"column\": \"Price Each\",\n      \"properties\": {\n        \"dtype\": \"number\",\n        \"std\": 326.9005161611971,\n        \"min\": 2.99,\n        \"max\": 1700.0,\n        \"num_unique_values\": 17,\n        \"samples\": [\n          11.95,\n          11.99,\n          600.0\n        ],\n        \"semantic_type\": \"\",\n        \"description\": \"\"\n      }\n    },\n    {\n      \"column\": \"Order Date\",\n      \"properties\": {\n        \"dtype\": \"date\",\n        \"min\": \"2019-01-01 07:29:00\",\n        \"max\": \"2020-01-01 05:13:00\",\n        \"num_unique_values\": 7076,\n        \"samples\": [\n          \"2019-12-14 14:34:00\",\n          \"2019-06-18 21:27:00\",\n          \"2019-10-25 19:39:00\"\n        ],\n        \"semantic_type\": \"\",\n        \"description\": \"\"\n      }\n    },\n    {\n      \"column\": \"Purchase Address\",\n      \"properties\": {\n        \"dtype\": \"category\",\n        \"num_unique_values\": 7071,\n        \"samples\": [\n          \"643 Center St, San Francisco, CA 94016\",\n          \"186 Chestnut St, Los Angeles, CA 90001\",\n          \"589 Spruce St, Portland, ME 04101\"\n        ],\n        \"semantic_type\": \"\",\n        \"description\": \"\"\n      }\n    },\n    {\n      \"column\": \"Month\",\n      \"properties\": {\n        \"dtype\": \"number\",\n        \"std\": 3,\n        \"min\": 1,\n        \"max\": 12,\n        \"num_unique_values\": 12,\n        \"samples\": [\n          11,\n          10,\n          1\n        ],\n        \"semantic_type\": \"\",\n        \"description\": \"\"\n      }\n    },\n    {\n      \"column\": \"Sales\",\n      \"properties\": {\n        \"dtype\": \"number\",\n        \"std\": 327.60160705409885,\n        \"min\": 2.99,\n        \"max\": 3400.0,\n        \"num_unique_values\": 42,\n        \"samples\": [\n          8.97,\n          2.99,\n          300.0\n        ],\n        \"semantic_type\": \"\",\n        \"description\": \"\"\n      }\n    },\n    {\n      \"column\": \"City\",\n      \"properties\": {\n        \"dtype\": \"category\",\n        \"num_unique_values\": 9,\n        \"samples\": [\n          \" Dallas\",\n          \" Los Angeles\",\n          \" Seattle\"\n        ],\n        \"semantic_type\": \"\",\n        \"description\": \"\"\n      }\n    },\n    {\n      \"column\": \"Hour\",\n      \"properties\": {\n        \"dtype\": \"number\",\n        \"std\": 5,\n        \"min\": 0,\n        \"max\": 23,\n        \"num_unique_values\": 24,\n        \"samples\": [\n          20,\n          18,\n          16\n        ],\n        \"semantic_type\": \"\",\n        \"description\": \"\"\n      }\n    },\n    {\n      \"column\": \"Day\",\n      \"properties\": {\n        \"dtype\": \"int32\",\n        \"num_unique_values\": 31,\n        \"samples\": [\n          21,\n          18,\n          28\n        ],\n        \"semantic_type\": \"\",\n        \"description\": \"\"\n      }\n    },\n    {\n      \"column\": \"Weekday\",\n      \"properties\": {\n        \"dtype\": \"category\",\n        \"num_unique_values\": 7,\n        \"samples\": [\n          \"Monday\",\n          \"Wednesday\",\n          \"Friday\"\n        ],\n        \"semantic_type\": \"\",\n        \"description\": \"\"\n      }\n    },\n    {\n      \"column\": \"Quarter\",\n      \"properties\": {\n        \"dtype\": \"int32\",\n        \"num_unique_values\": 4,\n        \"samples\": [\n          2,\n          4,\n          1\n        ],\n        \"semantic_type\": \"\",\n        \"description\": \"\"\n      }\n    }\n  ]\n}"
            }
          },
          "metadata": {},
          "execution_count": 46
        }
      ]
    },
    {
      "cell_type": "code",
      "source": [
        "#Supprimons toutes les lignes identiques\n",
        "data.drop_duplicates(inplace=True)"
      ],
      "metadata": {
        "id": "p5WN8pcAaEDS"
      },
      "execution_count": 47,
      "outputs": []
    },
    {
      "cell_type": "code",
      "source": [
        "data.shape"
      ],
      "metadata": {
        "colab": {
          "base_uri": "https://localhost:8080/"
        },
        "id": "LeXQQZE6aeSS",
        "outputId": "ecbf9a89-1773-401a-bb5c-c2b217e5f205"
      },
      "execution_count": 48,
      "outputs": [
        {
          "output_type": "execute_result",
          "data": {
            "text/plain": [
              "(185686, 13)"
            ]
          },
          "metadata": {},
          "execution_count": 48
        }
      ]
    },
    {
      "cell_type": "markdown",
      "source": [
        "## **4. Analyse Exploratoire des Données (EDA)**"
      ],
      "metadata": {
        "id": "oN7OxW3sbVDo"
      }
    },
    {
      "cell_type": "markdown",
      "source": [
        "### **1. Quels sont les produits les plus vendus ?**"
      ],
      "metadata": {
        "id": "1c2iN7M9i0dI"
      }
    },
    {
      "cell_type": "code",
      "source": [
        "# Compter les ventes par produit\n",
        "product_counts = data[\"Product\"].value_counts()\n",
        "\n",
        "# Visualiser avec un graphique\n",
        "plt.figure(figsize=(12, 6))\n",
        "product_counts.plot(kind=\"bar\", color=\"skyblue\")\n",
        "plt.xlabel(\"Produits\")\n",
        "plt.ylabel(\"Nombre de ventes\")\n",
        "plt.title(\"Top produits les plus vendus\")\n",
        "plt.xticks(rotation=90)\n",
        "plt.show()"
      ],
      "metadata": {
        "colab": {
          "base_uri": "https://localhost:8080/",
          "height": 760
        },
        "id": "MUga8rfoi3to",
        "outputId": "8addb033-0149-4121-e4b9-ee6f07ed131b"
      },
      "execution_count": 49,
      "outputs": [
        {
          "output_type": "display_data",
          "data": {
            "text/plain": [
              "<Figure size 1200x600 with 1 Axes>"
            ],
            "image/png": "[encoded data removed]"
          },
          "metadata": {}
        }
      ]
    },
    {
      "cell_type": "markdown",
      "source": [
        "Les produits les plus vendus: USB-C Charging Cable, Lightning Charging Cable, AAA Batteries (4-pack)."
      ],
      "metadata": {
        "id": "BmPNvLeeamsS"
      }
    },
    {
      "cell_type": "markdown",
      "source": [
        "### **2. Quels sont les meilleurs mois pour les ventes ?**"
      ],
      "metadata": {
        "id": "B4AA9HYwjIfy"
      }
    },
    {
      "cell_type": "code",
      "source": [
        "# Calcul des ventes par mois\n",
        "sales_per_month = data.groupby(\"Month\")[\"Sales\"].sum().sort_values(ascending=False)\n",
        "\n",
        "# Afficher sous forme de graphique\n",
        "plt.figure(figsize=(10, 5))\n",
        "sales_per_month.plot(kind=\"bar\", color=\"gray\")\n",
        "plt.xlabel(\"Mois\")\n",
        "plt.ylabel(\"Chiffre d'affaires ($)\")\n",
        "plt.title(\"Total des ventes par mois\")\n",
        "plt.xticks(rotation=0)\n",
        "plt.show()\n"
      ],
      "metadata": {
        "colab": {
          "base_uri": "https://localhost:8080/",
          "height": 487
        },
        "id": "QGmUmMscjGOw",
        "outputId": "6408770c-27a6-42ce-f67b-35b08bc32b54"
      },
      "execution_count": 50,
      "outputs": [
        {
          "output_type": "display_data",
          "data": {
            "text/plain": [
              "<Figure size 1000x500 with 1 Axes>"
            ],
            "image/png": "[encoded data removed]"
          },
          "metadata": {}
        }
      ]
    },
    {
      "cell_type": "markdown",
      "source": [
        "Les meilleurs mois sont : Décembre, Octobre, Avril."
      ],
      "metadata": {
        "id": "O-XzAgpVa4Mn"
      }
    },
    {
      "cell_type": "markdown",
      "source": [
        "### **3. À quelle heure y a-t-il le plus de commandes ?**"
      ],
      "metadata": {
        "id": "w7jzEZAunnvf"
      }
    },
    {
      "cell_type": "code",
      "source": [
        "# Compter le nombre de commandes par heure\n",
        "orders_per_hour = data[\"Hour\"].value_counts().sort_values(ascending=False)\n",
        "\n",
        "# Graphique des ventes par heure\n",
        "plt.figure(figsize=(10, 5))\n",
        "orders_per_hour.plot(kind=\"bar\", color=\"green\")\n",
        "plt.xlabel(\"Heure\")\n",
        "plt.ylabel(\"Nombre de commandes\")\n",
        "plt.title(\"Nombre de commandes par heure\")\n",
        "plt.xticks(rotation=0)\n",
        "plt.show()\n"
      ],
      "metadata": {
        "colab": {
          "base_uri": "https://localhost:8080/",
          "height": 487
        },
        "id": "sn5di5-YnriI",
        "outputId": "72cdf4d6-2403-4c8b-aa84-e57e4ac33247"
      },
      "execution_count": 51,
      "outputs": [
        {
          "output_type": "display_data",
          "data": {
            "text/plain": [
              "<Figure size 1000x500 with 1 Axes>"
            ],
            "image/png": "[encoded data removed]"
          },
          "metadata": {}
        }
      ]
    },
    {
      "cell_type": "markdown",
      "source": [
        "Les heures où les clients achètent le plus: !9h, 12h, 11h, 18h, 20h."
      ],
      "metadata": {
        "id": "N7M0_KeTod9s"
      }
    },
    {
      "cell_type": "markdown",
      "source": [
        "### **4. Quelle ville génère le plus de ventes ?**"
      ],
      "metadata": {
        "id": "ryXERrLqn-Xk"
      }
    },
    {
      "cell_type": "code",
      "source": [
        "# Ventes par ville\n",
        "sales_per_city = data.groupby(\"City\")[\"Sales\"].sum().sort_values(ascending=False)\n",
        "\n",
        "# Graphique\n",
        "plt.figure(figsize=(12, 6))\n",
        "sales_per_city.plot(kind=\"bar\", color=\"red\")\n",
        "plt.xlabel(\"Ville\")\n",
        "plt.ylabel(\"Chiffre d'affaires ($)\")\n",
        "plt.title(\"Total des ventes par ville\")\n",
        "plt.xticks(rotation=45)\n",
        "plt.show()\n"
      ],
      "metadata": {
        "colab": {
          "base_uri": "https://localhost:8080/",
          "height": 631
        },
        "id": "fW26dlrkoNUM",
        "outputId": "4c502963-3b62-4f16-ddb6-09fe960b6dda"
      },
      "execution_count": 52,
      "outputs": [
        {
          "output_type": "display_data",
          "data": {
            "text/plain": [
              "<Figure size 1200x600 with 1 Axes>"
            ],
            "image/png": "[encoded data removed]"
          },
          "metadata": {}
        }
      ]
    },
    {
      "cell_type": "markdown",
      "source": [
        "Les villes que génèrent le plus de vente: San Francisco, Los Angeles, New York City."
      ],
      "metadata": {
        "id": "NDb67BI5oji2"
      }
    },
    {
      "cell_type": "markdown",
      "source": [
        "### **5. Saison de vente : L’analyse de la saisonnalité des ventes**"
      ],
      "metadata": {
        "id": "nuQ0Vk6FqB76"
      }
    },
    {
      "cell_type": "code",
      "source": [
        "# Définir les saisons en fonction du mois\n",
        "def get_season(month):\n",
        "    if month in [12, 1, 2]:\n",
        "        return \"Hiver\"\n",
        "    elif month in [3, 4, 5]:\n",
        "        return \"Printemps\"\n",
        "    elif month in [6, 7, 8]:\n",
        "        return \"Été\"\n",
        "    else:\n",
        "        return \"Automne\"\n",
        "\n",
        "# Ajouter une colonne \"Season\"\n",
        "data[\"Season\"] = data[\"Month\"].apply(get_season)\n",
        "\n",
        "# Calcul des ventes par saison\n",
        "sales_per_season = data.groupby(\"Season\")[\"Sales\"].sum().sort_values(ascending=False)\n",
        "\n",
        "# Affichage des ventes par saison\n",
        "sales_per_season.plot(kind=\"bar\", color=\"purple\", figsize=(10, 5))\n",
        "plt.xlabel(\"Saison\")\n",
        "plt.ylabel(\"Chiffre d'affaires (euros)\")\n",
        "plt.title(\"Total des ventes par saison\")\n",
        "plt.xticks(rotation=0)\n",
        "plt.show()\n"
      ],
      "metadata": {
        "colab": {
          "base_uri": "https://localhost:8080/",
          "height": 487
        },
        "id": "vqsn02NIqIXK",
        "outputId": "bec9830c-a0e6-4692-c6d3-770fbdb43ec9"
      },
      "execution_count": 53,
      "outputs": [
        {
          "output_type": "display_data",
          "data": {
            "text/plain": [
              "<Figure size 1000x500 with 1 Axes>"
            ],
            "image/png": "[encoded data removed]"
          },
          "metadata": {}
        }
      ]
    },
    {
      "cell_type": "markdown",
      "source": [
        "Meilleures saisons: Printemps, automne."
      ],
      "metadata": {
        "id": "5lgkr-B9b_I-"
      }
    },
    {
      "cell_type": "code",
      "source": [
        "# Garder uniquement les commandes avec plusieurs produits\n",
        "multi_order = data[data['Order ID'].duplicated(keep=False)]\n",
        "\n",
        "# Regrouper les produits ensemble par Order ID\n",
        "multi_order['Grouped'] = multi_order.groupby('Order ID')['Product'].transform(lambda x: ','.join(x))\n",
        "\n",
        "# Supprimer les doublons\n",
        "multi_order = multi_order[['Order ID', 'Grouped']].drop_duplicates()\n",
        "\n",
        "# Compter les combinaisons de produits\n",
        "count = Counter()\n",
        "\n",
        "for row in multi_order['Grouped']:\n",
        "    products = row.split(',')\n",
        "    count.update(Counter(combinations(products, 2)))"
      ],
      "metadata": {
        "colab": {
          "base_uri": "https://localhost:8080/"
        },
        "id": "AxRESez-jjHw",
        "outputId": "e2c271d7-1e13-420a-835f-840a575a6eab",
        "collapsed": true
      },
      "execution_count": 54,
      "outputs": [
        {
          "output_type": "stream",
          "name": "stderr",
          "text": [
            "<ipython-input-54-1076a3038966>:5: SettingWithCopyWarning: \n",
            "A value is trying to be set on a copy of a slice from a DataFrame.\n",
            "Try using .loc[row_indexer,col_indexer] = value instead\n",
            "\n",
            "See the caveats in the documentation: https://pandas.pydata.org/pandas-docs/stable/user_guide/indexing.html#returning-a-view-versus-a-copy\n",
            "  multi_order['Grouped'] = multi_order.groupby('Order ID')['Product'].transform(lambda x: ','.join(x))\n"
          ]
        }
      ]
    },
    {
      "cell_type": "code",
      "source": [
        "# Sélectionner les 10 paires les plus fréquentes\n",
        "top_10 = count.most_common(10)\n",
        "\n",
        "# Séparer les paires et leur nombre\n",
        "pairs = [' & '.join(pair[0]) for pair in top_10]\n",
        "counts = [pair[1] for pair in top_10]\n",
        "\n",
        "# Créer un graphique\n",
        "plt.figure(figsize=(12,6))\n",
        "plt.barh(pairs, counts, color='skyblue')\n",
        "plt.xlabel('Nombre d\\'achats ensemble')\n",
        "plt.title('Top 10 des paires de produits achetés ensemble')\n",
        "plt.gca().invert_yaxis()  # Pour avoir la paire la plus fréquente en haut\n",
        "plt.grid(axis='x', linestyle='--', alpha=0.7)\n",
        "plt.tight_layout()\n",
        "plt.show()"
      ],
      "metadata": {
        "colab": {
          "base_uri": "https://localhost:8080/",
          "height": 607
        },
        "id": "jzdpImXikOpm",
        "outputId": "ff4d0427-12cb-4585-9c7a-cf819978d9ad"
      },
      "execution_count": 56,
      "outputs": [
        {
          "output_type": "display_data",
          "data": {
            "text/plain": [
              "<Figure size 1200x600 with 1 Axes>"
            ],
            "image/png": "[encoded data removed]"
          },
          "metadata": {}
        }
      ]
    },
    {
      "cell_type": "markdown",
      "source": [
        "# **Rapport d'Analyse des Performances de Ventes**\n",
        "**1. Objectif de l'analyse**\n",
        "\n",
        "L'objectif de cette analyse est d'étudier les performances commerciales d'une entreprise afin d'identifier :\n",
        "*   Les produits les plus populaires\n",
        "*   Les tendances saisonnières\n",
        "*   Les périodes horaires les plus actives\n",
        "*   Les villes les plus rentables\n",
        "*   Les meilleures saisons pour les ventes\n",
        "\n",
        "**2. Résultats de l'analyse**\n",
        "\n",
        "**2.1 Produits les plus vendus**\n",
        "*   USB-C Charging Cable\n",
        "*   Lightning Charging Cable\n",
        "*   AAA Batteries (4-pack)\n",
        "\n",
        "➡Ces produits représentent les articles avec le volume de ventes le plus élevé, principalement des accessoires technologiques et des consommables du quotidien.\n",
        "\n",
        "**2.2 Meilleurs mois pour les ventes**\n",
        "*   Décembre\n",
        "*   Octobre\n",
        "*   Avril\n",
        "\n",
        "➡Le mois de décembre est logiquement en tête grâce aux achats de Noël. Octobre et Avril correspondent probablement à des périodes de promotions ou d'événements commerciaux.\n",
        "\n",
        "**2.3 Heures où il y a le plus de commandes**\n",
        "*   19h\n",
        "*   12h\n",
        "*   11h\n",
        "*   18h\n",
        "*   20h\n",
        "\n",
        "➡ Les pics de commandes surviennent principalement en fin de journée et autour du déjeuner, ce qui suggère que les clients achètent pendant leurs temps libres.\n",
        "\n",
        "**2.4 Villes générant le plus de ventes**\n",
        "*   San Francisco\n",
        "*   Los Angeles\n",
        "*   New York City\n",
        "\n",
        "➡ Ce sont toutes des grandes villes densément peuplées et économiquement dynamiques.\n",
        "\n",
        "**2.5 Meilleures saisons pour les ventes**\n",
        "*   Printemps\n",
        "*   Automne\n",
        "\n",
        "➡ L'activité commerciale est particulièrement forte pendant ces saisons, probablement en lien avec des événements saisonniers et des promotions."
      ],
      "metadata": {
        "id": "AdfIHEG9hg7j"
      }
    },
    {
      "cell_type": "markdown",
      "source": [
        "## **Recommandations Stratégiques**\n",
        "**1. Optimisation du Stock et Marketing**\n",
        "\n",
        "•\tRenforcer les stocks d'accessoires technologiques comme les câbles et les batteries avant Décembre, Octobre et Avril.\n",
        "\n",
        "•\tLancer des campagnes marketing ciblées sur ces produits pendant ces périodes clés.\n",
        "\n",
        "**2. Promotions ciblées**\n",
        "\n",
        "•\tMener des offres flash autour de 11h-12h et 18h-20h, périodes de haute affluence client.\n",
        "\n",
        "•\tUtiliser des campagnes géolocalisées pour maximiser les ventes dans les villes performantes : San Francisco, Los Angeles, New York City.\n",
        "\n",
        "**3. Préparation saisonnière**\n",
        "\n",
        "•\tPlanifier les promotions majeures au printemps et en automne pour booster davantage les ventes.\n",
        "\n",
        "•\tAdapter les messages marketing aux événements saisonniers pour capter l’attention des clients.\n",
        "\n",
        "**4. Développement de nouveaux produits**\n",
        "\n",
        "•\tExplorer la gamme d'accessoires technologiques, car les accessoires à usage quotidien (câbles, batteries) génèrent déjà un volume important.\n",
        "\n",
        "\n",
        "**5. Recommandations Business après l'analyse**\n",
        "\n",
        "•\tCréer des bundles officiels sur les paires les plus populaires.\n",
        "\n",
        "•\tFaire des promotions croisées.\n",
        "\n",
        "•\tMettre en avant ces produits ensemble sur le site ou en magasin."
      ],
      "metadata": {
        "id": "YjUZv3MyilkD"
      }
    }
  ]
}